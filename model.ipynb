{
 "cells": [
  {
   "cell_type": "code",
   "execution_count": 1,
   "metadata": {},
   "outputs": [],
   "source": [
    "import os\n",
    "import shutil\n",
    "import numpy as np\n",
    "from sklearn.model_selection import train_test_split\n",
    "import tensorflow as tf\n",
    "from tensorflow.keras.applications import VGG16,ResNet50,MobileNetV2\n",
    "from tensorflow.keras import layers, models\n",
    "from sklearn.metrics import classification_report, confusion_matrix\n"
   ]
  },
  {
   "cell_type": "code",
   "execution_count": 2,
   "metadata": {},
   "outputs": [],
   "source": [
    "# Define paths\n",
    "data_dir = '/Users/samuelsetsofia/dev/projects/EyeDisease_Classifier_DeepLearning/dataset'\n",
    "classes = ['cataract', 'glaucoma', 'diabetic_retinopathy', 'normal']\n",
    "\n",
    "# Create train, val, and test folders\n",
    "output_dir = '/Users/samuelsetsofia/dev/projects/EyeDisease_Classifier_DeepLearning/output_dir'\n",
    "os.makedirs(output_dir, exist_ok=True)\n",
    "for folder in ['train', 'val', 'test']:\n",
    "    for cls in classes:\n",
    "        os.makedirs(os.path.join(output_dir, folder, cls), exist_ok=True)\n",
    "\n",
    "# Split files\n",
    "for cls in classes:\n",
    "    class_path = os.path.join(data_dir, cls)\n",
    "    files = np.array(os.listdir(class_path))\n",
    "    train_files, temp_files = train_test_split(files, test_size=0.3, random_state=42)\n",
    "    val_files, test_files = train_test_split(temp_files, test_size=0.5, random_state=42)\n",
    "\n",
    "    for file_list, folder in zip([train_files, val_files, test_files], ['train', 'val', 'test']):\n",
    "        for file in file_list:\n",
    "            shutil.copy(os.path.join(class_path, file), os.path.join(output_dir, folder, cls))"
   ]
  },
  {
   "cell_type": "markdown",
   "metadata": {},
   "source": [
    "### Load and Preprocess Images"
   ]
  },
  {
   "cell_type": "code",
   "execution_count": 3,
   "metadata": {},
   "outputs": [
    {
     "name": "stdout",
     "output_type": "stream",
     "text": [
      "Found 2949 files belonging to 4 classes.\n",
      "Found 633 files belonging to 4 classes.\n",
      "Found 635 files belonging to 4 classes.\n"
     ]
    }
   ],
   "source": [
    "\n",
    "\n",
    "train_dir = '/Users/samuelsetsofia/dev/projects/EyeDisease_Classifier_DeepLearning/output_dir/train'\n",
    "val_dir = '/Users/samuelsetsofia/dev/projects/EyeDisease_Classifier_DeepLearning/output_dir/val'\n",
    "test_dir = '/Users/samuelsetsofia/dev/projects/EyeDisease_Classifier_DeepLearning/output_dir/test'\n",
    "\n",
    "batch_size = 32\n",
    "img_height = 224\n",
    "img_width = 224\n",
    "\n",
    "train_ds = tf.keras.preprocessing.image_dataset_from_directory(\n",
    "    train_dir,\n",
    "    image_size=(img_height, img_width),\n",
    "    batch_size=batch_size)\n",
    "\n",
    "val_ds = tf.keras.preprocessing.image_dataset_from_directory(\n",
    "    val_dir,\n",
    "    image_size=(img_height, img_width),\n",
    "    batch_size=batch_size)\n",
    "\n",
    "test_ds = tf.keras.preprocessing.image_dataset_from_directory(\n",
    "    test_dir,\n",
    "    image_size=(img_height, img_width),\n",
    "    batch_size=batch_size)"
   ]
  },
  {
   "cell_type": "markdown",
   "metadata": {},
   "source": [
    "### Model 1: VGG16 (Transfer Learning)\n",
    "A deep convolutional neural network architecture that is effective for image classification tasks."
   ]
  },
  {
   "cell_type": "code",
   "execution_count": 6,
   "metadata": {},
   "outputs": [
    {
     "name": "stdout",
     "output_type": "stream",
     "text": [
      "Epoch 1/10\n",
      "\u001b[1m93/93\u001b[0m \u001b[32m━━━━━━━━━━━━━━━━━━━━\u001b[0m\u001b[37m\u001b[0m \u001b[1m227s\u001b[0m 2s/step - accuracy: 0.6353 - loss: 10.9061 - val_accuracy: 0.8294 - val_loss: 0.4860\n",
      "Epoch 2/10\n",
      "\u001b[1m93/93\u001b[0m \u001b[32m━━━━━━━━━━━━━━━━━━━━\u001b[0m\u001b[37m\u001b[0m \u001b[1m228s\u001b[0m 2s/step - accuracy: 0.7711 - loss: 0.5885 - val_accuracy: 0.8167 - val_loss: 0.4130\n",
      "Epoch 3/10\n",
      "\u001b[1m93/93\u001b[0m \u001b[32m━━━━━━━━━━━━━━━━━━━━\u001b[0m\u001b[37m\u001b[0m \u001b[1m234s\u001b[0m 3s/step - accuracy: 0.8038 - loss: 0.4793 - val_accuracy: 0.8784 - val_loss: 0.3610\n",
      "Epoch 4/10\n",
      "\u001b[1m93/93\u001b[0m \u001b[32m━━━━━━━━━━━━━━━━━━━━\u001b[0m\u001b[37m\u001b[0m \u001b[1m236s\u001b[0m 3s/step - accuracy: 0.8677 - loss: 0.3763 - val_accuracy: 0.8815 - val_loss: 0.3678\n",
      "Epoch 5/10\n",
      "\u001b[1m93/93\u001b[0m \u001b[32m━━━━━━━━━━━━━━━━━━━━\u001b[0m\u001b[37m\u001b[0m \u001b[1m235s\u001b[0m 3s/step - accuracy: 0.8462 - loss: 0.3879 - val_accuracy: 0.8657 - val_loss: 0.3858\n",
      "Epoch 6/10\n",
      "\u001b[1m93/93\u001b[0m \u001b[32m━━━━━━━━━━━━━━━━━━━━\u001b[0m\u001b[37m\u001b[0m \u001b[1m234s\u001b[0m 3s/step - accuracy: 0.8441 - loss: 0.3793 - val_accuracy: 0.8878 - val_loss: 0.3520\n",
      "Epoch 7/10\n",
      "\u001b[1m93/93\u001b[0m \u001b[32m━━━━━━━━━━━━━━━━━━━━\u001b[0m\u001b[37m\u001b[0m \u001b[1m234s\u001b[0m 3s/step - accuracy: 0.8810 - loss: 0.3004 - val_accuracy: 0.8973 - val_loss: 0.3011\n",
      "Epoch 8/10\n",
      "\u001b[1m93/93\u001b[0m \u001b[32m━━━━━━━━━━━━━━━━━━━━\u001b[0m\u001b[37m\u001b[0m \u001b[1m231s\u001b[0m 2s/step - accuracy: 0.8808 - loss: 0.2872 - val_accuracy: 0.8768 - val_loss: 0.3726\n",
      "Epoch 9/10\n",
      "\u001b[1m93/93\u001b[0m \u001b[32m━━━━━━━━━━━━━━━━━━━━\u001b[0m\u001b[37m\u001b[0m \u001b[1m227s\u001b[0m 2s/step - accuracy: 0.8810 - loss: 0.3090 - val_accuracy: 0.8926 - val_loss: 0.2925\n",
      "Epoch 10/10\n",
      "\u001b[1m93/93\u001b[0m \u001b[32m━━━━━━━━━━━━━━━━━━━━\u001b[0m\u001b[37m\u001b[0m \u001b[1m226s\u001b[0m 2s/step - accuracy: 0.8981 - loss: 0.2629 - val_accuracy: 0.8815 - val_loss: 0.3506\n"
     ]
    }
   ],
   "source": [
    "\n",
    "\n",
    "base_model = VGG16(input_shape=(img_height, img_width, 3), include_top=False, weights='imagenet')\n",
    "base_model.trainable = False\n",
    "\n",
    "model_vgg16 = models.Sequential([\n",
    "    base_model,\n",
    "    layers.Flatten(),\n",
    "    layers.Dense(256, activation='relu'),\n",
    "    layers.Dropout(0.5),\n",
    "    layers.Dense(4, activation='softmax')  # 4 classes\n",
    "])\n",
    "\n",
    "model_vgg16.compile(optimizer='adam',\n",
    "              loss='sparse_categorical_crossentropy',\n",
    "              metrics=['accuracy'])\n",
    "\n",
    "history_vgg16 = model_vgg16.fit(train_ds, validation_data=val_ds, epochs=10)"
   ]
  },
  {
   "cell_type": "markdown",
   "metadata": {},
   "source": [
    "### Model 2: ResNet50 (Transfer Learning)\n",
    "A residual network that enables deeper networks by addressing vanishing gradient issues."
   ]
  },
  {
   "cell_type": "code",
   "execution_count": 4,
   "metadata": {},
   "outputs": [
    {
     "name": "stdout",
     "output_type": "stream",
     "text": [
      "Downloading data from https://storage.googleapis.com/tensorflow/keras-applications/resnet/resnet50_weights_tf_dim_ordering_tf_kernels_notop.h5\n",
      "\u001b[1m94765736/94765736\u001b[0m \u001b[32m━━━━━━━━━━━━━━━━━━━━\u001b[0m\u001b[37m\u001b[0m \u001b[1m20s\u001b[0m 0us/step\n",
      "Epoch 1/10\n",
      "\u001b[1m93/93\u001b[0m \u001b[32m━━━━━━━━━━━━━━━━━━━━\u001b[0m\u001b[37m\u001b[0m \u001b[1m76s\u001b[0m 779ms/step - accuracy: 0.6271 - loss: 1.0456 - val_accuracy: 0.8325 - val_loss: 0.4258\n",
      "Epoch 2/10\n",
      "\u001b[1m93/93\u001b[0m \u001b[32m━━━━━━━━━━━━━━━━━━━━\u001b[0m\u001b[37m\u001b[0m \u001b[1m71s\u001b[0m 762ms/step - accuracy: 0.8255 - loss: 0.4619 - val_accuracy: 0.8720 - val_loss: 0.3540\n",
      "Epoch 3/10\n",
      "\u001b[1m93/93\u001b[0m \u001b[32m━━━━━━━━━━━━━━━━━━━━\u001b[0m\u001b[37m\u001b[0m \u001b[1m70s\u001b[0m 750ms/step - accuracy: 0.8426 - loss: 0.4047 - val_accuracy: 0.8799 - val_loss: 0.3236\n",
      "Epoch 4/10\n",
      "\u001b[1m93/93\u001b[0m \u001b[32m━━━━━━━━━━━━━━━━━━━━\u001b[0m\u001b[37m\u001b[0m \u001b[1m70s\u001b[0m 754ms/step - accuracy: 0.8630 - loss: 0.3500 - val_accuracy: 0.8784 - val_loss: 0.3086\n",
      "Epoch 5/10\n",
      "\u001b[1m93/93\u001b[0m \u001b[32m━━━━━━━━━━━━━━━━━━━━\u001b[0m\u001b[37m\u001b[0m \u001b[1m70s\u001b[0m 751ms/step - accuracy: 0.8781 - loss: 0.3156 - val_accuracy: 0.8910 - val_loss: 0.2867\n",
      "Epoch 6/10\n",
      "\u001b[1m93/93\u001b[0m \u001b[32m━━━━━━━━━━━━━━━━━━━━\u001b[0m\u001b[37m\u001b[0m \u001b[1m70s\u001b[0m 753ms/step - accuracy: 0.9052 - loss: 0.2821 - val_accuracy: 0.8942 - val_loss: 0.2698\n",
      "Epoch 7/10\n",
      "\u001b[1m93/93\u001b[0m \u001b[32m━━━━━━━━━━━━━━━━━━━━\u001b[0m\u001b[37m\u001b[0m \u001b[1m70s\u001b[0m 754ms/step - accuracy: 0.8766 - loss: 0.3074 - val_accuracy: 0.8942 - val_loss: 0.3022\n",
      "Epoch 8/10\n",
      "\u001b[1m93/93\u001b[0m \u001b[32m━━━━━━━━━━━━━━━━━━━━\u001b[0m\u001b[37m\u001b[0m \u001b[1m70s\u001b[0m 754ms/step - accuracy: 0.8905 - loss: 0.2751 - val_accuracy: 0.8973 - val_loss: 0.2978\n",
      "Epoch 9/10\n",
      "\u001b[1m93/93\u001b[0m \u001b[32m━━━━━━━━━━━━━━━━━━━━\u001b[0m\u001b[37m\u001b[0m \u001b[1m70s\u001b[0m 756ms/step - accuracy: 0.8912 - loss: 0.2619 - val_accuracy: 0.9163 - val_loss: 0.2373\n",
      "Epoch 10/10\n",
      "\u001b[1m93/93\u001b[0m \u001b[32m━━━━━━━━━━━━━━━━━━━━\u001b[0m\u001b[37m\u001b[0m \u001b[1m70s\u001b[0m 756ms/step - accuracy: 0.9091 - loss: 0.2238 - val_accuracy: 0.8957 - val_loss: 0.2472\n"
     ]
    }
   ],
   "source": [
    "\n",
    "\n",
    "base_model = ResNet50(input_shape=(img_height, img_width, 3), include_top=False, weights='imagenet')\n",
    "base_model.trainable = False\n",
    "\n",
    "model_resnet50 = models.Sequential([\n",
    "    base_model,\n",
    "    layers.GlobalAveragePooling2D(),\n",
    "    layers.Dense(256, activation='relu'),\n",
    "    layers.Dropout(0.5),\n",
    "    layers.Dense(4, activation='softmax')\n",
    "])\n",
    "\n",
    "model_resnet50.compile(optimizer='adam',\n",
    "              loss='sparse_categorical_crossentropy',\n",
    "              metrics=['accuracy'])\n",
    "\n",
    "history_resnet50 = model_resnet50.fit(train_ds, validation_data=val_ds, epochs=10)"
   ]
  },
  {
   "cell_type": "markdown",
   "metadata": {},
   "source": [
    "### Model 3: MobileNetV2 (Transfer Learning)\n",
    "A lightweight convolutional neural network suitable for mobile and embedded applications."
   ]
  },
  {
   "cell_type": "code",
   "execution_count": 5,
   "metadata": {},
   "outputs": [
    {
     "name": "stdout",
     "output_type": "stream",
     "text": [
      "Downloading data from https://storage.googleapis.com/tensorflow/keras-applications/mobilenet_v2/mobilenet_v2_weights_tf_dim_ordering_tf_kernels_1.0_224_no_top.h5\n",
      "\u001b[1m9406464/9406464\u001b[0m \u001b[32m━━━━━━━━━━━━━━━━━━━━\u001b[0m\u001b[37m\u001b[0m \u001b[1m2s\u001b[0m 0us/step\n",
      "Epoch 1/10\n",
      "\u001b[1m93/93\u001b[0m \u001b[32m━━━━━━━━━━━━━━━━━━━━\u001b[0m\u001b[37m\u001b[0m \u001b[1m27s\u001b[0m 263ms/step - accuracy: 0.6264 - loss: 0.9472 - val_accuracy: 0.7804 - val_loss: 0.5309\n",
      "Epoch 2/10\n",
      "\u001b[1m93/93\u001b[0m \u001b[32m━━━━━━━━━━━━━━━━━━━━\u001b[0m\u001b[37m\u001b[0m \u001b[1m23s\u001b[0m 244ms/step - accuracy: 0.7693 - loss: 0.5688 - val_accuracy: 0.7741 - val_loss: 0.5362\n",
      "Epoch 3/10\n",
      "\u001b[1m93/93\u001b[0m \u001b[32m━━━━━━━━━━━━━━━━━━━━\u001b[0m\u001b[37m\u001b[0m \u001b[1m23s\u001b[0m 245ms/step - accuracy: 0.7810 - loss: 0.5326 - val_accuracy: 0.8183 - val_loss: 0.4637\n",
      "Epoch 4/10\n",
      "\u001b[1m93/93\u001b[0m \u001b[32m━━━━━━━━━━━━━━━━━━━━\u001b[0m\u001b[37m\u001b[0m \u001b[1m24s\u001b[0m 262ms/step - accuracy: 0.8072 - loss: 0.4833 - val_accuracy: 0.8357 - val_loss: 0.4295\n",
      "Epoch 5/10\n",
      "\u001b[1m93/93\u001b[0m \u001b[32m━━━━━━━━━━━━━━━━━━━━\u001b[0m\u001b[37m\u001b[0m \u001b[1m26s\u001b[0m 278ms/step - accuracy: 0.8187 - loss: 0.4462 - val_accuracy: 0.8199 - val_loss: 0.4376\n",
      "Epoch 6/10\n",
      "\u001b[1m93/93\u001b[0m \u001b[32m━━━━━━━━━━━━━━━━━━━━\u001b[0m\u001b[37m\u001b[0m \u001b[1m24s\u001b[0m 258ms/step - accuracy: 0.8340 - loss: 0.4389 - val_accuracy: 0.8294 - val_loss: 0.4152\n",
      "Epoch 7/10\n",
      "\u001b[1m93/93\u001b[0m \u001b[32m━━━━━━━━━━━━━━━━━━━━\u001b[0m\u001b[37m\u001b[0m \u001b[1m24s\u001b[0m 255ms/step - accuracy: 0.8416 - loss: 0.3954 - val_accuracy: 0.8231 - val_loss: 0.4101\n",
      "Epoch 8/10\n",
      "\u001b[1m93/93\u001b[0m \u001b[32m━━━━━━━━━━━━━━━━━━━━\u001b[0m\u001b[37m\u001b[0m \u001b[1m25s\u001b[0m 264ms/step - accuracy: 0.8366 - loss: 0.4157 - val_accuracy: 0.8325 - val_loss: 0.4006\n",
      "Epoch 9/10\n",
      "\u001b[1m93/93\u001b[0m \u001b[32m━━━━━━━━━━━━━━━━━━━━\u001b[0m\u001b[37m\u001b[0m \u001b[1m23s\u001b[0m 251ms/step - accuracy: 0.8370 - loss: 0.3793 - val_accuracy: 0.8420 - val_loss: 0.3987\n",
      "Epoch 10/10\n",
      "\u001b[1m93/93\u001b[0m \u001b[32m━━━━━━━━━━━━━━━━━━━━\u001b[0m\u001b[37m\u001b[0m \u001b[1m24s\u001b[0m 256ms/step - accuracy: 0.8490 - loss: 0.3761 - val_accuracy: 0.8404 - val_loss: 0.3823\n"
     ]
    }
   ],
   "source": [
    "\n",
    "\n",
    "base_model = MobileNetV2(input_shape=(img_height, img_width, 3), include_top=False, weights='imagenet')\n",
    "base_model.trainable = False\n",
    "\n",
    "model_mobilenetv2 = models.Sequential([\n",
    "    base_model,\n",
    "    layers.GlobalAveragePooling2D(),\n",
    "    layers.Dense(256, activation='relu'),\n",
    "    layers.Dropout(0.5),\n",
    "    layers.Dense(4, activation='softmax')\n",
    "])\n",
    "\n",
    "model_mobilenetv2.compile(optimizer='adam',\n",
    "              loss='sparse_categorical_crossentropy',\n",
    "              metrics=['accuracy'])\n",
    "\n",
    "history_mobilenetv2 = model_mobilenetv2.fit(train_ds, validation_data=val_ds, epochs=10)"
   ]
  },
  {
   "cell_type": "markdown",
   "metadata": {},
   "source": [
    "### Evaluate Model Performance\n",
    "Confusion Matrix: For detailed class-level performance.\n",
    "Precision, Recall, F1-Score: For assessing balance between sensitivity and specificity."
   ]
  },
  {
   "cell_type": "code",
   "execution_count": 7,
   "metadata": {},
   "outputs": [
    {
     "name": "stdout",
     "output_type": "stream",
     "text": [
      "\u001b[1m20/20\u001b[0m \u001b[32m━━━━━━━━━━━━━━━━━━━━\u001b[0m\u001b[37m\u001b[0m \u001b[1m40s\u001b[0m 2s/step - accuracy: 0.8857 - loss: 0.3236\n",
      "\u001b[1m20/20\u001b[0m \u001b[32m━━━━━━━━━━━━━━━━━━━━\u001b[0m\u001b[37m\u001b[0m \u001b[1m13s\u001b[0m 618ms/step - accuracy: 0.9096 - loss: 0.2426\n",
      "\u001b[1m20/20\u001b[0m \u001b[32m━━━━━━━━━━━━━━━━━━━━\u001b[0m\u001b[37m\u001b[0m \u001b[1m4s\u001b[0m 210ms/step - accuracy: 0.8243 - loss: 0.3829\n"
     ]
    },
    {
     "name": "stderr",
     "output_type": "stream",
     "text": [
      "2024-12-17 01:54:56.449963: I tensorflow/core/framework/local_rendezvous.cc:405] Local rendezvous is aborting with status: OUT_OF_RANGE: End of sequence\n"
     ]
    },
    {
     "name": "stdout",
     "output_type": "stream",
     "text": [
      "\u001b[1m20/20\u001b[0m \u001b[32m━━━━━━━━━━━━━━━━━━━━\u001b[0m\u001b[37m\u001b[0m \u001b[1m40s\u001b[0m 2s/step\n",
      "\u001b[1m20/20\u001b[0m \u001b[32m━━━━━━━━━━━━━━━━━━━━\u001b[0m\u001b[37m\u001b[0m \u001b[1m14s\u001b[0m 660ms/step\n",
      "\u001b[1m20/20\u001b[0m \u001b[32m━━━━━━━━━━━━━━━━━━━━\u001b[0m\u001b[37m\u001b[0m \u001b[1m5s\u001b[0m 233ms/step\n",
      "VGG16:\n",
      "              precision    recall  f1-score   support\n",
      "\n",
      "           0       0.22      0.21      0.22       156\n",
      "           1       0.21      0.21      0.21       165\n",
      "           2       0.20      0.22      0.21       152\n",
      "           3       0.22      0.20      0.21       162\n",
      "\n",
      "    accuracy                           0.21       635\n",
      "   macro avg       0.21      0.21      0.21       635\n",
      "weighted avg       0.21      0.21      0.21       635\n",
      "\n",
      "ResNet50:\n",
      "              precision    recall  f1-score   support\n",
      "\n",
      "           0       0.23      0.23      0.23       156\n",
      "           1       0.18      0.19      0.19       165\n",
      "           2       0.23      0.22      0.23       152\n",
      "           3       0.24      0.24      0.24       162\n",
      "\n",
      "    accuracy                           0.22       635\n",
      "   macro avg       0.22      0.22      0.22       635\n",
      "weighted avg       0.22      0.22      0.22       635\n",
      "\n",
      "MobileNetV2:\n",
      "              precision    recall  f1-score   support\n",
      "\n",
      "           0       0.26      0.24      0.25       156\n",
      "           1       0.29      0.28      0.28       165\n",
      "           2       0.20      0.16      0.18       152\n",
      "           3       0.25      0.32      0.28       162\n",
      "\n",
      "    accuracy                           0.25       635\n",
      "   macro avg       0.25      0.25      0.25       635\n",
      "weighted avg       0.25      0.25      0.25       635\n",
      "\n"
     ]
    }
   ],
   "source": [
    "vgg16_loss, vgg16_accuracy = model_vgg16.evaluate(test_ds)\n",
    "resnet50_loss, resnet50_accuracy = model_resnet50.evaluate(test_ds)\n",
    "mobilenetv2_loss, mobilenetv2_accuracy = model_mobilenetv2.evaluate(test_ds)\n",
    "\n",
    "\n",
    "true_labels = np.concatenate([y for x, y in test_ds], axis=0)\n",
    "\n",
    "vgg16_predictions = np.argmax(model_vgg16.predict(test_ds), axis=1)\n",
    "resnet50_predictions = np.argmax(model_resnet50.predict(test_ds), axis=1)\n",
    "mobilenetv2_predictions = np.argmax(model_mobilenetv2.predict(test_ds), axis=1)\n",
    "\n",
    "# Print classification reports\n",
    "print(\"VGG16:\")\n",
    "print(classification_report(true_labels, vgg16_predictions))\n",
    "print(\"ResNet50:\")\n",
    "print(classification_report(true_labels, resnet50_predictions))\n",
    "print(\"MobileNetV2:\")\n",
    "print(classification_report(true_labels, mobilenetv2_predictions))"
   ]
  },
  {
   "cell_type": "code",
   "execution_count": null,
   "metadata": {},
   "outputs": [],
   "source": []
  }
 ],
 "metadata": {
  "kernelspec": {
   "display_name": "base",
   "language": "python",
   "name": "python3"
  },
  "language_info": {
   "codemirror_mode": {
    "name": "ipython",
    "version": 3
   },
   "file_extension": ".py",
   "mimetype": "text/x-python",
   "name": "python",
   "nbconvert_exporter": "python",
   "pygments_lexer": "ipython3",
   "version": "3.12.2"
  }
 },
 "nbformat": 4,
 "nbformat_minor": 2
}
